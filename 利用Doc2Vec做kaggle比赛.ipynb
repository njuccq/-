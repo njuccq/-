{
 "cells": [
  {
   "cell_type": "code",
   "execution_count": 57,
   "metadata": {
    "collapsed": false
   },
   "outputs": [],
   "source": [
    "import gensim\n",
    "LabeledSentence=gensim.models.doc2vec.LabeledSentence\n",
    "TaggedDocument= gensim.models.doc2vec.TaggedDocument"
   ]
  },
  {
   "cell_type": "code",
   "execution_count": 3,
   "metadata": {
    "collapsed": true
   },
   "outputs": [],
   "source": [
    "from sklearn.cross_validation import train_test_split\n",
    "import numpy as np"
   ]
  },
  {
   "cell_type": "code",
   "execution_count": 14,
   "metadata": {
    "collapsed": true
   },
   "outputs": [],
   "source": [
    "import pandas as pd\n",
    "import string"
   ]
  },
  {
   "cell_type": "code",
   "execution_count": 264,
   "metadata": {
    "collapsed": false
   },
   "outputs": [],
   "source": [
    "train_data=pd.read_csv(r'C:\\Users\\chaoqun chen\\Desktop\\kaggle比赛\\train.csv')\n",
    "test_data=pd.read_csv(r'C:\\Users\\chaoqun chen\\Desktop\\kaggle比赛\\test.csv')"
   ]
  },
  {
   "cell_type": "code",
   "execution_count": 265,
   "metadata": {
    "collapsed": true
   },
   "outputs": [],
   "source": [
    "x_train,x_val,y_train,y_val=train_test_split(train_data['text'],train_data['author'],\\\n",
    "                                            test_size=0.3,random_state=2017)"
   ]
  },
  {
   "cell_type": "code",
   "execution_count": 266,
   "metadata": {
    "collapsed": false
   },
   "outputs": [],
   "source": [
    "x_train_id = train_data[train_data.index.isin(x_train.index)]['id']"
   ]
  },
  {
   "cell_type": "code",
   "execution_count": 267,
   "metadata": {
    "collapsed": true
   },
   "outputs": [],
   "source": [
    "x_val_id = train_data[train_data.index.isin(x_val.index)]['id']"
   ]
  },
  {
   "cell_type": "code",
   "execution_count": 268,
   "metadata": {
    "collapsed": true
   },
   "outputs": [],
   "source": [
    "def cleanText(corpus):\n",
    "    punctuation = \"\"\".,?!:;(){}[]\"\"\"\n",
    "    corpus = [z.lower().replace('\\n','') for z in corpus]\n",
    "    #将标点符号也当做字符\n",
    "    for c in punctuation:\n",
    "        corpus = [z.replace(c, \" %s\"%c) for z in corpus]\n",
    "    corpus = [z.split() for z in corpus]\n",
    "    return corpus"
   ]
  },
  {
   "cell_type": "code",
   "execution_count": 269,
   "metadata": {
    "collapsed": true
   },
   "outputs": [],
   "source": [
    "x_train = cleanText(x_train)\n",
    "x_val = cleanText(x_val)\n",
    "test_texts = cleanText(test_data['text'])"
   ]
  },
  {
   "cell_type": "code",
   "execution_count": 270,
   "metadata": {
    "collapsed": true
   },
   "outputs": [],
   "source": [
    "#gensim的word2vec需要每个文档都有一个label\n",
    "def LabeledLineSentence(texts, id_list, label_type):\n",
    "    for text,id in zip(texts,id_list):\n",
    "        label = '%s_%s'%(label_type, id)\n",
    "        yield LabeledSentence(text,[label])"
   ]
  },
  {
   "cell_type": "code",
   "execution_count": 290,
   "metadata": {
    "collapsed": true
   },
   "outputs": [],
   "source": [
    "Tagged =[]"
   ]
  },
  {
   "cell_type": "code",
   "execution_count": 291,
   "metadata": {
    "collapsed": true
   },
   "outputs": [],
   "source": [
    "def TaggedText_allCorpus(texts, Tagged,id_list, label_type):\n",
    "    #Tagged =[]\n",
    "    for text,id in zip(texts,id_list):\n",
    "        label = '%s_%s'%(label_type, id)\n",
    "        Tagged.append(TaggedDocument(text,[label]))\n",
    "    #return Tagged"
   ]
  },
  {
   "cell_type": "code",
   "execution_count": 292,
   "metadata": {
    "collapsed": false
   },
   "outputs": [
    {
     "name": "stdout",
     "output_type": "stream",
     "text": [
      "13705\n"
     ]
    }
   ],
   "source": [
    "TaggedText_allCorpus(x_train,Tagged,x_train_id,'TRAIN')\n",
    "print(len(Tagged))\n",
    "TaggedText_allCorpus(x_val,Tagged,x_val_id,'VAL')\n",
    "TaggedText_allCorpus(test_texts,Tagged,test_data['id'],'TEST')"
   ]
  },
  {
   "cell_type": "code",
   "execution_count": 293,
   "metadata": {
    "collapsed": true
   },
   "outputs": [],
   "source": [
    "all_corpus=Tagged"
   ]
  },
  {
   "cell_type": "code",
   "execution_count": 294,
   "metadata": {
    "collapsed": false
   },
   "outputs": [
    {
     "data": {
      "text/plain": [
       "27971"
      ]
     },
     "execution_count": 294,
     "metadata": {},
     "output_type": "execute_result"
    }
   ],
   "source": [
    "len(all_corpus)"
   ]
  },
  {
   "cell_type": "code",
   "execution_count": 260,
   "metadata": {
    "collapsed": true
   },
   "outputs": [],
   "source": [
    "def TaggedText(texts, id_list, label_type):\n",
    "    Tagged =[]\n",
    "    for text,id in zip(texts,id_list):\n",
    "        label = '%s_%s'%(label_type, id)\n",
    "        Tagged.append(TaggedDocument(text,[label]))\n",
    "    return Tagged"
   ]
  },
  {
   "cell_type": "code",
   "execution_count": 295,
   "metadata": {
    "collapsed": false
   },
   "outputs": [],
   "source": [
    "x_train=TaggedText(x_train,x_train_id,'TRAIN')\n",
    "#x_train=LabeledLineSentence(x_train,x_train_id,'TRAIN')"
   ]
  },
  {
   "cell_type": "code",
   "execution_count": 297,
   "metadata": {
    "collapsed": false
   },
   "outputs": [
    {
     "name": "stdout",
     "output_type": "stream",
     "text": [
      "<class 'list'> 13705\n"
     ]
    }
   ],
   "source": [
    "print(type(x_train),len(x_train))"
   ]
  },
  {
   "cell_type": "code",
   "execution_count": 245,
   "metadata": {
    "collapsed": false
   },
   "outputs": [
    {
     "data": {
      "text/plain": [
       "[TaggedDocument(words=['i', 'took', 'a', 'frenzied', 'pleasure', 'in', 'contrasting', 'its', 'downward', 'with', 'its', 'lateral', 'velocity', '.'], tags=['TEST_id02759']),\n",
       " TaggedDocument(words=['an', 'inquiry', 'will', 'afford', 'us', 'amusement', ',\"', 'i', 'thought', 'this', 'an', 'odd', 'term', ',', 'so', 'applied', ',', 'but', 'said', 'nothing', '\"and', ',', 'besides', ',', 'le', 'bon', 'once', 'rendered', 'me', 'a', 'service', 'for', 'which', 'i', 'am', 'not', 'ungrateful', '.'], tags=['TRAIN_id08378'])]"
      ]
     },
     "execution_count": 245,
     "metadata": {},
     "output_type": "execute_result"
    }
   ],
   "source": [
    "x_train[0:2]"
   ]
  },
  {
   "cell_type": "code",
   "execution_count": 307,
   "metadata": {
    "collapsed": false
   },
   "outputs": [
    {
     "data": {
      "text/plain": [
       "13705"
      ]
     },
     "execution_count": 307,
     "metadata": {},
     "output_type": "execute_result"
    }
   ],
   "source": [
    "len(x_train)"
   ]
  },
  {
   "cell_type": "code",
   "execution_count": 298,
   "metadata": {
    "collapsed": true
   },
   "outputs": [],
   "source": [
    "x_val=TaggedText(x_val,x_val_id,'VAL')"
   ]
  },
  {
   "cell_type": "code",
   "execution_count": 299,
   "metadata": {
    "collapsed": true
   },
   "outputs": [],
   "source": [
    "x_test = TaggedText(test_texts,test_data['id'],'TEST')"
   ]
  },
  {
   "cell_type": "markdown",
   "metadata": {},
   "source": [
    "Doc2Vec 的两个模型，DM 和 DBOW。\n",
    "gensim 的说明文档建议多次训练数据集并调整学习速率或在每次训练中打乱输入信息的顺序。\n",
    "我们从Doc2Vec 模型中获得向量。"
   ]
  },
  {
   "cell_type": "code",
   "execution_count": 179,
   "metadata": {
    "collapsed": true
   },
   "outputs": [],
   "source": [
    "import random\n",
    "size=400"
   ]
  },
  {
   "cell_type": "code",
   "execution_count": 300,
   "metadata": {
    "collapsed": false
   },
   "outputs": [],
   "source": [
    "#min_count = ignore all words with total frequency lower than this.\n",
    "model_dm=gensim.models.doc2vec.Doc2Vec(min_count=1,window=10,size=size,sample=1e-3,negative=5,\n",
    "                              workers=3)"
   ]
  },
  {
   "cell_type": "code",
   "execution_count": 301,
   "metadata": {
    "collapsed": true
   },
   "outputs": [],
   "source": [
    "model_dbow=gensim.models.doc2vec.Doc2Vec(min_count=1,window=10,size=size,sample=1e-3,negative=5,\n",
    "                              dm=0,workers=3)"
   ]
  },
  {
   "cell_type": "code",
   "execution_count": 184,
   "metadata": {
    "collapsed": false
   },
   "outputs": [],
   "source": [
    "#all_corpus=list(np.concatenate((x_train,x_val,x_test)))\n",
    "\n",
    "#all_corpus=x_train+x_val+x_test\n",
    "\n",
    "#all_corpus[0:2]"
   ]
  },
  {
   "cell_type": "code",
   "execution_count": 302,
   "metadata": {
    "collapsed": false
   },
   "outputs": [],
   "source": [
    "model_dm.build_vocab(all_corpus)\n",
    "model_dbow.build_vocab(all_corpus)"
   ]
  },
  {
   "cell_type": "code",
   "execution_count": 303,
   "metadata": {
    "collapsed": false
   },
   "outputs": [
    {
     "data": {
      "text/plain": [
       "<gensim.models.doc2vec.Doc2Vec at 0x2025d11c9b0>"
      ]
     },
     "execution_count": 303,
     "metadata": {},
     "output_type": "execute_result"
    }
   ],
   "source": [
    "model_dm"
   ]
  },
  {
   "cell_type": "code",
   "execution_count": 186,
   "metadata": {
    "collapsed": false,
    "scrolled": true
   },
   "outputs": [],
   "source": [
    "#model_dm.build_vocab(x_train)\n",
    "#model_dbow.build_vocab(x_train)"
   ]
  },
  {
   "cell_type": "code",
   "execution_count": 230,
   "metadata": {
    "collapsed": true
   },
   "outputs": [],
   "source": [
    "np.random.shuffle(all_corpus)"
   ]
  },
  {
   "cell_type": "code",
   "execution_count": 231,
   "metadata": {
    "collapsed": false
   },
   "outputs": [
    {
     "data": {
      "text/plain": [
       "[TaggedDocument(words=['\"what', 'do', 'you', 'mean', 'by', 'interfering', 'with', 'a', 'gentleman', 'in', 'his', 'pleasures', '?\"'], tags=['TEST_id10286']),\n",
       " TaggedDocument(words=['even', 'perdita', 'will', 'rejoice', '.'], tags=['VAL_id25833'])]"
      ]
     },
     "execution_count": 231,
     "metadata": {},
     "output_type": "execute_result"
    }
   ],
   "source": [
    "all_corpus[0:2]"
   ]
  },
  {
   "cell_type": "code",
   "execution_count": 304,
   "metadata": {
    "collapsed": false
   },
   "outputs": [],
   "source": [
    "for epoch in range(10):\n",
    "    #perm = np.random.permutation(len(all_corpus))\n",
    "    #print(list(map(int,perm)))\n",
    "    #perm=list(map(int,perm))\n",
    "    np.random.shuffle(all_corpus)\n",
    "    model_dm.train(all_corpus,total_examples=model_dm.corpus_count,\\\n",
    "                   epochs=model_dm.iter)\n",
    "    model_dbow.train(all_corpus,total_examples=model_dbow.corpus_count,\\\n",
    "                    epochs=model_dbow.iter)"
   ]
  },
  {
   "cell_type": "code",
   "execution_count": 308,
   "metadata": {
    "collapsed": true
   },
   "outputs": [],
   "source": [
    "model_dm.save(r'C:\\Users\\chaoqun chen\\Desktop\\kaggle比赛\\model\\doc2vec_dm.doc2vec')"
   ]
  },
  {
   "cell_type": "code",
   "execution_count": 309,
   "metadata": {
    "collapsed": true
   },
   "outputs": [],
   "source": [
    "model_dbow.save(r'C:\\Users\\chaoqun chen\\Desktop\\kaggle比赛\\model\\doc2vec_dbow.doc2vec')"
   ]
  },
  {
   "cell_type": "code",
   "execution_count": null,
   "metadata": {
    "collapsed": true
   },
   "outputs": [],
   "source": []
  },
  {
   "cell_type": "code",
   "execution_count": 314,
   "metadata": {
    "collapsed": false
   },
   "outputs": [],
   "source": [
    "def getVecs(model,corpus,size):\n",
    "    Vecs=[np.array(model.infer_vector(z.words)).reshape((1,size)) for z in corpus]\n",
    "    return np.concatenate(Vecs)"
   ]
  },
  {
   "cell_type": "code",
   "execution_count": 315,
   "metadata": {
    "collapsed": false
   },
   "outputs": [],
   "source": [
    "train_vecs_dm = getVecs(model_dm,x_train,size)\n",
    "train_vecs_dbow = getVecs(model_dbow,x_train,size)"
   ]
  },
  {
   "cell_type": "code",
   "execution_count": 316,
   "metadata": {
    "collapsed": false
   },
   "outputs": [
    {
     "data": {
      "text/plain": [
       "array([[  1.18000388e-01,   3.10263429e-02,   8.90923887e-02,\n",
       "          4.79938835e-02,   1.51903912e-01,   1.12465613e-01,\n",
       "         -1.48219392e-01,  -1.99942384e-02,   1.63476467e-01,\n",
       "         -5.47001511e-02,   1.65423945e-01,   8.93721059e-02,\n",
       "          7.17518255e-02,  -2.72216320e-01,   1.03495065e-02,\n",
       "          1.81832649e-02,   4.97806594e-02,  -1.94909975e-01,\n",
       "          2.59723574e-01,  -1.89567097e-02,   2.39867102e-02,\n",
       "          2.60039210e-01,  -3.34590836e-03,  -8.00897777e-02,\n",
       "          9.18378755e-02,   4.35853451e-02,   1.52359992e-01,\n",
       "          1.66566268e-01,  -1.63739535e-03,   3.97743694e-02,\n",
       "         -3.77949178e-02,  -3.94336469e-02,  -1.17513873e-01,\n",
       "          9.19104517e-02,  -6.43970817e-02,  -2.03214325e-02,\n",
       "          2.58856395e-04,   1.33060649e-01,   5.89993559e-02,\n",
       "          1.23848170e-02,  -1.34755492e-01,   2.26454645e-01,\n",
       "          6.59032241e-02,  -1.04687989e-01,   1.18967697e-01,\n",
       "         -1.33046033e-02,  -1.65667146e-01,   1.53644294e-01,\n",
       "          1.69867203e-01,  -7.16437250e-02,   1.10653654e-01,\n",
       "         -2.40010619e-02,  -6.04568981e-02,   1.05164923e-01,\n",
       "         -1.39455050e-01,   1.27325639e-01,  -1.14365794e-01,\n",
       "          1.54103100e-01,   8.17660391e-02,   7.62167349e-02,\n",
       "         -2.77504269e-02,  -8.81871954e-02,  -1.60354245e-02,\n",
       "          1.54272556e-01,  -1.06541805e-01,  -1.61218971e-01,\n",
       "         -2.34158728e-02,  -6.82656690e-02,   3.52982908e-01,\n",
       "         -7.02635571e-02,   7.76500478e-02,   6.68635080e-03,\n",
       "         -2.19343770e-02,   4.42749038e-02,   2.91362613e-01,\n",
       "          1.29035749e-02,  -1.30666614e-01,   1.99008942e-01,\n",
       "         -3.97364087e-02,   4.35485318e-02,  -1.39364507e-02,\n",
       "          7.88734294e-03,   1.40437528e-01,  -6.73837364e-02,\n",
       "         -2.18820214e-01,   1.11742713e-01,   1.17251523e-01,\n",
       "          1.24404564e-01,   9.83241200e-02,  -1.21109590e-01,\n",
       "         -6.57648593e-02,   4.74276766e-02,  -1.09077424e-01,\n",
       "          1.43059835e-01,   7.06600249e-02,  -2.51461715e-01,\n",
       "         -3.67392376e-02,   1.17757656e-01,  -4.81457859e-02,\n",
       "         -8.33418071e-02,  -3.50611284e-02,  -2.22497851e-01,\n",
       "         -2.09621206e-01,  -6.32793233e-02,  -9.93157625e-02,\n",
       "          1.93173662e-02,  -8.55845399e-03,  -1.36892468e-01,\n",
       "          1.96343809e-02,  -9.39552262e-02,  -1.99047312e-01,\n",
       "          1.12112761e-01,   6.51184097e-02,  -7.99467936e-02,\n",
       "         -1.92566272e-02,  -1.22307881e-03,  -2.51676947e-01,\n",
       "          6.15641773e-02,  -1.41381435e-02,   3.31621915e-02,\n",
       "         -6.27086163e-02,  -8.16418156e-02,   1.01623192e-01,\n",
       "          1.18657328e-01,   7.49066025e-02,  -5.09730838e-02,\n",
       "          2.28155375e-01,  -4.33003856e-03,   3.73105295e-02,\n",
       "         -4.05802317e-02,  -5.58540691e-03,   2.59032339e-01,\n",
       "          9.46295261e-02,  -4.89121303e-02,  -5.89409471e-02,\n",
       "         -3.19959149e-02,   1.48049518e-01,  -1.03612065e-01,\n",
       "          6.52253702e-02,  -7.36857727e-02,  -1.77210152e-01,\n",
       "         -7.89708719e-02,   5.45656271e-02,  -5.03049158e-02,\n",
       "          7.26849735e-02,  -8.59771818e-02,   2.99727358e-02,\n",
       "         -2.94124156e-01,  -3.30178916e-01,  -4.28687260e-02,\n",
       "         -3.48616578e-02,  -2.88370531e-02,  -4.49471883e-02,\n",
       "         -3.11268002e-01,  -3.09572488e-01,  -9.79015380e-02,\n",
       "         -2.40405276e-01,  -1.15802661e-01,  -1.42637357e-01,\n",
       "          1.74240887e-01,  -1.81345671e-01,   8.39625150e-02,\n",
       "         -1.11943573e-01,  -1.95130706e-01,   8.09907615e-02,\n",
       "          6.69970885e-02,   2.11691871e-01,   2.57482439e-01,\n",
       "          7.62102008e-02,  -2.46347189e-01,   1.32971764e-01,\n",
       "         -7.61796460e-02,  -6.94964379e-02,   1.86135769e-01,\n",
       "         -7.12476969e-02,   3.98817938e-03,  -7.23745003e-02,\n",
       "         -4.26232591e-02,  -7.74799436e-02,  -9.92651880e-02,\n",
       "         -1.25583932e-01,  -1.06051303e-01,   1.01296298e-01,\n",
       "          1.36982530e-01,  -1.22192234e-01,  -9.34730396e-02,\n",
       "         -8.92367680e-05,  -4.73247282e-02,  -2.35643074e-01,\n",
       "         -2.88339128e-04,  -4.75091040e-02,   1.26691580e-01,\n",
       "          2.28792086e-01,   5.11787422e-02,  -5.70197068e-02,\n",
       "          1.03428967e-01,  -6.00421429e-02,  -2.27449283e-01,\n",
       "         -8.89556110e-02,   1.81903601e-01,  -3.17442790e-02,\n",
       "          2.93112323e-02,  -1.00672290e-01,   1.50010377e-01,\n",
       "          6.15239441e-02,  -1.96903590e-02,  -4.56459597e-02,\n",
       "         -1.79679617e-02,   7.34467804e-02,  -2.17808764e-02,\n",
       "         -1.34278566e-01,   1.26701957e-02,  -7.13442564e-02,\n",
       "          1.32959951e-02,   6.25003874e-02,  -1.17452882e-01,\n",
       "         -1.19689882e-01,  -1.26190186e-01,   9.25059896e-03,\n",
       "         -7.79652596e-02,   8.04174468e-02,   9.76453349e-02,\n",
       "         -7.97467530e-02,  -4.47791927e-02,   5.83403697e-03,\n",
       "          8.10125992e-02,  -3.20546184e-04,  -7.38559216e-02,\n",
       "          7.15419948e-02,  -4.79553733e-03,   1.19301364e-01,\n",
       "         -7.16444328e-02,  -2.04055622e-01,  -6.78193346e-02,\n",
       "          2.24193595e-02,   1.16597891e-01,  -2.27091357e-01,\n",
       "          2.91388165e-02,  -2.36487657e-01,   6.52423277e-02,\n",
       "         -1.27433438e-03,  -6.59920275e-02,   5.29604964e-02,\n",
       "          1.51808441e-01,  -7.16264918e-03,   1.68076426e-01,\n",
       "         -4.20972519e-02,   1.25106117e-02,   5.93759343e-02,\n",
       "         -3.79114263e-02,  -7.15580657e-02,  -7.71726593e-02,\n",
       "         -2.78047293e-01,  -1.63171515e-02,  -1.03036590e-01,\n",
       "          1.84585407e-01,   1.57797292e-01,  -3.80372219e-02,\n",
       "         -5.90269305e-02,  -1.10328058e-02,   4.95997332e-02,\n",
       "         -1.94714237e-02,  -2.53411829e-02,   1.47811875e-01,\n",
       "          1.03298407e-02,  -2.90336572e-02,   9.60045680e-02,\n",
       "         -2.24435121e-01,  -6.92608282e-02,   3.09587978e-02,\n",
       "         -8.09413940e-02,  -1.38791785e-01,   1.67201951e-01,\n",
       "          2.60922611e-02,   1.20893054e-01,   1.71092510e-01,\n",
       "         -1.92682445e-02,   1.50197268e-01,   1.50608659e-01,\n",
       "          3.01471204e-02,  -1.03314854e-01,   2.63514724e-02,\n",
       "          8.47488046e-02,   2.21442834e-01,   4.30584513e-02,\n",
       "          1.10106222e-01,   9.95944021e-04,  -2.36688983e-02,\n",
       "         -2.03614503e-01,  -1.12806067e-01,   3.09754489e-03,\n",
       "         -1.27824545e-01,   5.83249740e-02,   1.63712278e-01,\n",
       "          9.79452059e-02,  -1.81508176e-02,  -5.35780713e-02,\n",
       "          9.18518752e-02,   1.23622768e-01,   1.55702099e-01,\n",
       "         -1.00016646e-01,  -1.56784356e-01,  -6.90232739e-02,\n",
       "          5.06755449e-02,  -2.34787650e-02,  -5.47519363e-02,\n",
       "         -1.62963882e-01,  -1.31727487e-01,  -6.31669834e-02,\n",
       "          7.21029490e-02,   8.70312899e-02,  -6.64093420e-02,\n",
       "          3.11474483e-02,  -1.34048536e-01,  -1.14162989e-01,\n",
       "          2.24372745e-01,  -6.43681958e-02,  -1.48153037e-01,\n",
       "         -8.73557255e-02,  -7.33509511e-02,   9.95398313e-02,\n",
       "          1.02542322e-02,  -1.76365115e-02,   3.74312215e-02,\n",
       "          1.46086677e-03,   4.75886986e-02,   3.76366079e-02,\n",
       "          1.56344086e-01,  -2.41454616e-02,   1.25134259e-01,\n",
       "         -5.70236668e-02,   1.36199176e-01,   6.33254573e-02,\n",
       "          1.11716062e-01,  -2.66722701e-02,  -8.08603615e-02,\n",
       "         -8.48774910e-02,  -6.66860938e-02,  -1.53933063e-01,\n",
       "         -4.64439578e-02,  -6.19594473e-03,  -2.02400833e-01,\n",
       "          6.44169152e-02,   1.31948844e-01,   1.40334532e-01,\n",
       "         -1.24455988e-01,  -4.84807640e-02,   8.34613964e-02,\n",
       "         -2.11399533e-02,   1.28961042e-01,   7.46563226e-02,\n",
       "          1.72106579e-01,   1.14748940e-01,  -1.17980517e-01,\n",
       "         -4.19641472e-02,   7.43178427e-02,   1.33038074e-01,\n",
       "          7.60264695e-02,  -6.51223809e-02,   1.27018496e-01,\n",
       "         -1.70915220e-02,   1.47582874e-01,   8.14795941e-02,\n",
       "         -1.37668028e-01,  -8.37452412e-02,  -1.07096113e-01,\n",
       "          1.60841033e-01,  -9.53893289e-02,  -2.62591410e-02,\n",
       "         -4.15829346e-02,  -9.39405113e-02,  -1.20026238e-01,\n",
       "          4.96355668e-02,  -1.17065832e-01,  -7.11924732e-02,\n",
       "          4.99260575e-02,  -1.27334982e-01,  -3.53085138e-02,\n",
       "         -1.33594364e-01,   1.46652190e-02,   1.00566037e-01,\n",
       "          1.00298282e-02,  -7.10449070e-02,   2.87575070e-02,\n",
       "          2.21516266e-02,  -2.42008299e-01,  -1.38092950e-01,\n",
       "         -1.16690323e-01,  -6.52966872e-02,   1.05008567e-02,\n",
       "          1.27341628e-01,   1.75569882e-03,   3.08427289e-02,\n",
       "          4.46859337e-02,  -1.57626435e-01,   4.24859151e-02,\n",
       "          4.82353084e-02,  -1.40244588e-01,  -1.69478998e-01,\n",
       "         -2.66689267e-02],\n",
       "       [  1.09907500e-01,  -2.41685852e-01,  -1.06549198e-02,\n",
       "          6.25954345e-02,   5.08449711e-02,  -1.94944039e-01,\n",
       "         -6.01304753e-04,  -1.51923522e-01,   6.18376546e-02,\n",
       "         -9.78080481e-02,  -4.11837548e-02,   1.20944716e-02,\n",
       "         -1.00508511e-01,   3.50983739e-02,   1.60875928e-03,\n",
       "         -1.75061394e-02,   2.86608152e-02,  -1.03401944e-01,\n",
       "         -3.70821208e-02,  -3.15368995e-02,  -3.38479206e-02,\n",
       "          5.55526689e-02,  -1.20974936e-01,   1.81184262e-01,\n",
       "          4.82303500e-02,  -2.23123029e-01,  -1.10905677e-01,\n",
       "          1.19597455e-02,  -8.64909440e-02,   1.38711900e-01,\n",
       "         -4.41864058e-02,  -4.23654951e-02,   8.78622681e-02,\n",
       "          4.49805744e-02,   6.82234541e-02,   7.17500038e-03,\n",
       "         -1.18499152e-01,  -1.22983374e-01,  -7.58610219e-02,\n",
       "          9.65155289e-02,  -1.49174184e-01,   8.27461556e-02,\n",
       "          8.25349540e-02,  -9.44561735e-02,  -4.67752777e-02,\n",
       "          4.16931249e-02,   5.23928292e-02,   1.90024734e-01,\n",
       "          9.24377665e-02,  -2.61190414e-01,   1.31590456e-01,\n",
       "          1.63158819e-01,  -1.25920519e-01,   7.64486864e-02,\n",
       "         -1.29496872e-01,   1.58051118e-01,   2.69885994e-02,\n",
       "          2.02279910e-02,  -4.62715738e-02,  -1.92614868e-02,\n",
       "          8.00460726e-02,  -1.31471276e-01,   2.96915919e-02,\n",
       "          1.40471727e-01,  -6.84385076e-02,  -5.82632795e-02,\n",
       "         -4.58355956e-02,   3.61592881e-02,   2.47769162e-01,\n",
       "         -9.51853767e-03,   6.64925650e-02,  -2.27327421e-02,\n",
       "          3.95920090e-02,  -1.31990522e-01,   6.23222813e-02,\n",
       "         -8.82256106e-02,  -1.38748121e-02,  -2.03954577e-02,\n",
       "         -2.05909058e-01,   1.46382079e-01,   3.30378003e-02,\n",
       "          2.30281893e-02,  -4.93954681e-02,  -7.02698305e-02,\n",
       "         -7.11208135e-02,   8.72133449e-02,   9.50459987e-02,\n",
       "          1.95586398e-01,   6.85207918e-02,  -9.03665870e-02,\n",
       "          1.15681430e-02,   4.15909812e-02,   5.65021373e-02,\n",
       "         -3.51904482e-02,  -1.49627715e-01,  -1.27886370e-01,\n",
       "         -2.59346720e-02,  -3.62934433e-02,   5.03092015e-04,\n",
       "         -2.77448278e-02,   6.41495287e-02,   3.31803113e-02,\n",
       "          2.36468464e-02,  -9.55634266e-02,   8.40021372e-02,\n",
       "          3.23566645e-02,  -5.43098077e-02,  -6.09323680e-02,\n",
       "         -2.14185551e-01,   1.05833836e-01,  -1.10377207e-01,\n",
       "         -1.25627682e-01,   8.50793049e-02,  -2.34176926e-02,\n",
       "          5.37463129e-02,   1.18957974e-01,   2.44272370e-02,\n",
       "         -5.02676964e-02,  -6.30243123e-02,   2.24591214e-02,\n",
       "         -3.88776697e-02,  -1.72562636e-02,  -8.68783221e-02,\n",
       "         -2.44499464e-02,   8.24209675e-03,   1.47940606e-01,\n",
       "          3.61305289e-02,   9.70578417e-02,   6.50635660e-02,\n",
       "          9.38379318e-02,   4.28670309e-02,  -1.67593911e-01,\n",
       "          1.51561305e-01,   8.10307562e-02,  -1.83757991e-01,\n",
       "          2.15371847e-02,   2.78408024e-02,   6.42816722e-03,\n",
       "          4.80185598e-02,   2.06647441e-03,  -1.54062867e-01,\n",
       "         -2.13475525e-01,   2.13287517e-01,   1.28790259e-01,\n",
       "          1.20402150e-01,   1.71517193e-01,  -1.37096280e-02,\n",
       "         -1.34292558e-01,  -2.50455052e-01,   2.65775830e-03,\n",
       "          5.60506657e-02,   2.15539232e-01,  -5.95429279e-02,\n",
       "          1.05104148e-01,  -9.55488011e-02,   1.59658007e-02,\n",
       "         -1.08325802e-01,   1.07015826e-01,   4.92466390e-02,\n",
       "         -4.27144766e-02,   1.28291205e-01,   4.16755192e-02,\n",
       "         -9.01790336e-02,   4.63500619e-02,   3.63734178e-02,\n",
       "         -1.06920227e-01,   9.91919935e-02,  -3.70051898e-02,\n",
       "         -8.11633766e-02,   1.31032124e-01,   1.31336942e-01,\n",
       "         -6.91903457e-02,  -7.21868351e-02,   4.47428897e-02,\n",
       "         -9.45510715e-02,  -1.94189884e-02,   3.14682424e-02,\n",
       "          2.11278331e-02,  -5.17382436e-02,  -9.27403048e-02,\n",
       "         -1.81252763e-01,  -8.12922940e-02,   1.06927464e-02,\n",
       "          1.56808078e-01,  -8.16169232e-02,  -5.45786843e-02,\n",
       "         -9.72714052e-02,  -6.09819293e-02,  -2.04374120e-01,\n",
       "         -1.54296994e-01,  -2.97369640e-02,  -7.01886462e-03,\n",
       "         -1.41063973e-01,  -1.56332240e-01,  -1.91490725e-02,\n",
       "         -1.09657854e-01,   9.71278548e-03,  -5.21880249e-03,\n",
       "          2.81916298e-02,  -6.70369640e-02,  -1.14653222e-01,\n",
       "          9.82498005e-02,  -6.58096820e-02,  -2.24193893e-02,\n",
       "         -1.39126733e-01,   8.10611472e-02,  -1.07022807e-01,\n",
       "         -1.92373637e-02,  -1.30620345e-01,   8.05146843e-02,\n",
       "          6.13866560e-03,   1.06395178e-01,  -8.57824683e-02,\n",
       "          2.17926390e-02,   1.72670618e-01,  -1.34115919e-01,\n",
       "         -2.95379851e-02,  -6.36627823e-02,   1.31588459e-01,\n",
       "          8.31591859e-02,   3.81617174e-02,  -8.30077082e-02,\n",
       "         -3.35722789e-02,  -1.02391781e-03,   2.26366781e-02,\n",
       "          5.69876730e-02,  -4.92366701e-02,   6.63673580e-02,\n",
       "          1.57061830e-01,   2.54009992e-01,   2.73314118e-02,\n",
       "          1.33988082e-01,  -2.63059676e-01,  -1.93728536e-01,\n",
       "          5.80870472e-02,   1.15398251e-01,  -9.92159024e-02,\n",
       "          1.67443722e-01,   8.31934139e-02,  -7.06947297e-02,\n",
       "          4.65873145e-02,  -2.88665518e-02,   8.84368494e-02,\n",
       "          5.45265637e-02,  -6.11560531e-02,   6.87539503e-02,\n",
       "         -5.02952747e-02,  -1.17027231e-01,   1.83570430e-01,\n",
       "         -1.14304036e-01,   1.52707370e-02,   6.48391098e-02,\n",
       "         -2.81185448e-01,   8.95533636e-02,  -4.20928095e-03,\n",
       "         -9.90061387e-02,  -3.41085680e-02,  -1.14748040e-02,\n",
       "         -1.44431904e-01,   1.56652749e-01,   5.69367781e-02,\n",
       "         -4.94386293e-02,   1.05012782e-01,   3.50991152e-02,\n",
       "         -5.63774817e-02,  -4.84897718e-02,   1.22017831e-01,\n",
       "         -7.64427632e-02,  -3.19118164e-02,   8.96378905e-02,\n",
       "         -1.27595076e-02,  -5.92798106e-02,  -5.82801141e-02,\n",
       "          4.21738178e-02,  -2.84602754e-02,  -5.03327549e-02,\n",
       "         -1.01180859e-01,   2.14296743e-01,   1.24955162e-01,\n",
       "          1.96085319e-01,  -9.16167274e-02,   3.27391103e-02,\n",
       "         -4.08041328e-02,  -9.11837071e-02,   1.37517685e-02,\n",
       "          1.46177486e-01,  -1.97382085e-02,  -1.27560776e-02,\n",
       "         -2.53845125e-01,  -2.82961242e-02,  -2.91655183e-01,\n",
       "         -1.86707258e-01,   3.06952372e-02,   1.94394290e-02,\n",
       "          1.19867675e-01,   3.37801836e-02,   1.50209554e-02,\n",
       "         -5.25353011e-03,   1.97305664e-01,   9.68712717e-02,\n",
       "         -7.89720863e-02,   1.06775887e-01,  -6.83178678e-02,\n",
       "          1.13303393e-01,  -1.61274418e-01,  -8.21625441e-02,\n",
       "         -1.49606392e-01,  -1.25288188e-01,   1.38649032e-01,\n",
       "          1.23270802e-01,   6.46909103e-02,   7.66130090e-02,\n",
       "          1.67475939e-01,  -8.68774019e-03,   8.87834430e-02,\n",
       "          8.57496634e-02,   1.35404363e-01,  -1.79373175e-01,\n",
       "          1.65148571e-01,  -1.15670979e-01,  -1.35591179e-02,\n",
       "          3.86486985e-02,   2.45738942e-02,  -6.28919080e-02,\n",
       "          6.27252832e-02,   1.17086589e-01,  -7.41822794e-02,\n",
       "          3.21662389e-02,  -3.00252493e-02,   1.11700840e-01,\n",
       "          9.18205269e-03,  -7.13413060e-02,   2.48912841e-01,\n",
       "          1.52883172e-01,  -1.72890015e-02,   4.24198657e-02,\n",
       "          7.37809092e-02,   1.72493774e-02,   1.80315059e-02,\n",
       "          2.90348381e-03,   2.55423831e-03,  -1.33966105e-02,\n",
       "          1.50791854e-01,   5.67052253e-02,   3.57907563e-01,\n",
       "         -2.78692860e-02,   2.41396409e-02,   9.67294723e-02,\n",
       "          1.48452029e-01,   1.25071421e-01,  -6.26113638e-02,\n",
       "         -7.69001245e-02,  -4.62182215e-05,  -1.81657523e-02,\n",
       "          2.00894717e-02,   8.05073902e-02,   1.45907864e-01,\n",
       "          8.91383290e-02,   5.99299148e-02,  -4.16929536e-02,\n",
       "          1.08713903e-01,   1.19576352e-02,   7.12341592e-02,\n",
       "         -1.60731703e-01,   8.96145105e-02,  -7.25353137e-02,\n",
       "          1.77488267e-01,  -7.35298619e-02,  -2.19821155e-01,\n",
       "         -8.20381939e-02,  -1.79304764e-01,   4.46902923e-02,\n",
       "          1.02472482e-02,  -7.10116001e-03,   2.27998961e-02,\n",
       "          2.40658671e-02,   6.09449670e-02,  -7.77180493e-02,\n",
       "         -5.88543266e-02,  -4.19022925e-02,   1.37247801e-01,\n",
       "          1.50626421e-01,   5.15626073e-02,   8.45845789e-02,\n",
       "         -5.77276051e-02,   1.10202339e-02,  -2.26728879e-02,\n",
       "         -3.35756242e-02,   3.30059640e-02,   3.36076948e-03,\n",
       "          2.33774811e-01,   1.12902001e-01,  -1.32492155e-01,\n",
       "          6.42967895e-02,  -7.94383883e-02,  -1.40060242e-02,\n",
       "          6.34764805e-02,   7.09641129e-02,   2.39420533e-02,\n",
       "         -4.59452197e-02]], dtype=float32)"
      ]
     },
     "execution_count": 316,
     "metadata": {},
     "output_type": "execute_result"
    }
   ],
   "source": [
    " train_vecs_dm[0:2]"
   ]
  },
  {
   "cell_type": "code",
   "execution_count": 317,
   "metadata": {
    "collapsed": true
   },
   "outputs": [],
   "source": [
    "from sklearn.linear_model import SGDClassifier"
   ]
  },
  {
   "cell_type": "code",
   "execution_count": 331,
   "metadata": {
    "collapsed": false
   },
   "outputs": [
    {
     "data": {
      "text/plain": [
       "SGDClassifier(alpha=0.0001, average=False, class_weight=None, epsilon=0.1,\n",
       "       eta0=0.0, fit_intercept=True, l1_ratio=0.15,\n",
       "       learning_rate='optimal', loss='log', n_iter=5, n_jobs=1,\n",
       "       penalty='l2', power_t=0.5, random_state=None, shuffle=True,\n",
       "       verbose=0, warm_start=False)"
      ]
     },
     "execution_count": 331,
     "metadata": {},
     "output_type": "execute_result"
    }
   ],
   "source": [
    "sgd = SGDClassifier(loss='log',penalty='l2')\n",
    "sgd.fit(train_vecs_dm,y_train)"
   ]
  },
  {
   "cell_type": "code",
   "execution_count": 332,
   "metadata": {
    "collapsed": true
   },
   "outputs": [],
   "source": [
    "val_vecs_dm = getVecs(model_dm,x_val,size)"
   ]
  },
  {
   "cell_type": "code",
   "execution_count": 333,
   "metadata": {
    "collapsed": false
   },
   "outputs": [
    {
     "name": "stdout",
     "output_type": "stream",
     "text": [
      "0.545114061968\n"
     ]
    }
   ],
   "source": [
    "print(sgd.score(val_vecs_dm,y_val))"
   ]
  },
  {
   "cell_type": "code",
   "execution_count": 335,
   "metadata": {
    "collapsed": false
   },
   "outputs": [
    {
     "name": "stdout",
     "output_type": "stream",
     "text": [
      "0.957885240643\n"
     ]
    }
   ],
   "source": [
    "from sklearn.metrics import log_loss"
   ]
  },
  {
   "cell_type": "code",
   "execution_count": 336,
   "metadata": {
    "collapsed": true
   },
   "outputs": [],
   "source": [
    "def get_logloss(model,x_train,y_train,x_val,y_val,metrics):\n",
    "    model.fit(x_train,y_train)\n",
    "    y_pred_proba=model.predict_proba(x_val)\n",
    "    print(metrics(y_val,y_pred_proba))"
   ]
  },
  {
   "cell_type": "code",
   "execution_count": 337,
   "metadata": {
    "collapsed": false
   },
   "outputs": [
    {
     "name": "stdout",
     "output_type": "stream",
     "text": [
      "0.958131000199\n"
     ]
    }
   ],
   "source": [
    "get_logloss(sgd,train_vecs_dm,y_train,val_vecs_dm,y_val,log_loss)"
   ]
  },
  {
   "cell_type": "code",
   "execution_count": 338,
   "metadata": {
    "collapsed": false
   },
   "outputs": [
    {
     "name": "stdout",
     "output_type": "stream",
     "text": [
      "1.77363194582\n"
     ]
    }
   ],
   "source": [
    "from sklearn.ensemble import RandomForestClassifier\n",
    "rfc= RandomForestClassifier()\n",
    "get_logloss(rfc,train_vecs_dm,y_train,val_vecs_dm,y_val,log_loss)"
   ]
  },
  {
   "cell_type": "code",
   "execution_count": 339,
   "metadata": {
    "collapsed": false
   },
   "outputs": [
    {
     "name": "stdout",
     "output_type": "stream",
     "text": [
      "0.926044323988\n"
     ]
    }
   ],
   "source": [
    "from sklearn.linear_model import LogisticRegression\n",
    "lr= LogisticRegression()\n",
    "get_logloss(lr,train_vecs_dm,y_train,val_vecs_dm,y_val,log_loss)"
   ]
  },
  {
   "cell_type": "code",
   "execution_count": null,
   "metadata": {
    "collapsed": true
   },
   "outputs": [],
   "source": []
  }
 ],
 "metadata": {
  "kernelspec": {
   "display_name": "Python [default]",
   "language": "python",
   "name": "python3"
  },
  "language_info": {
   "codemirror_mode": {
    "name": "ipython",
    "version": 3
   },
   "file_extension": ".py",
   "mimetype": "text/x-python",
   "name": "python",
   "nbconvert_exporter": "python",
   "pygments_lexer": "ipython3",
   "version": "3.5.2"
  }
 },
 "nbformat": 4,
 "nbformat_minor": 1
}
